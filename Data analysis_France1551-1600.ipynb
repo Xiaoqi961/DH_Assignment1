{
 "cells": [
  {
   "cell_type": "markdown",
   "id": "7b1214f3",
   "metadata": {},
   "source": [
    "# Data  Analysis_France 1551-1600"
   ]
  },
  {
   "cell_type": "markdown",
   "id": "c823f708",
   "metadata": {},
   "source": [
    "1. Analysis for decriptive statistics\n",
    "2. linguistic features \n",
    "3. social network analysis "
   ]
  },
  {
   "cell_type": "markdown",
   "id": "f807aa6f",
   "metadata": {},
   "source": [
    "## connect to data set"
   ]
  },
  {
   "cell_type": "code",
   "execution_count": 275,
   "id": "20a308e0",
   "metadata": {},
   "outputs": [],
   "source": [
    "import pandas as pd\n",
    "import os\n",
    "import numpy as np\n",
    "import seaborn as sns"
   ]
  },
  {
   "cell_type": "code",
   "execution_count": 276,
   "id": "b235fd15",
   "metadata": {},
   "outputs": [],
   "source": [
    "df = pd.read_csv(r'D:\\KU Leuven\\DH Introduction\\Assignment2\\DH-France-1551-1600_reday_to_analysis.csv')"
   ]
  },
  {
   "cell_type": "code",
   "execution_count": 277,
   "id": "23be3463",
   "metadata": {},
   "outputs": [
    {
     "data": {
      "text/html": [
       "<div>\n",
       "<style scoped>\n",
       "    .dataframe tbody tr th:only-of-type {\n",
       "        vertical-align: middle;\n",
       "    }\n",
       "\n",
       "    .dataframe tbody tr th {\n",
       "        vertical-align: top;\n",
       "    }\n",
       "\n",
       "    .dataframe thead th {\n",
       "        text-align: right;\n",
       "    }\n",
       "</style>\n",
       "<table border=\"1\" class=\"dataframe\">\n",
       "  <thead>\n",
       "    <tr style=\"text-align: right;\">\n",
       "      <th></th>\n",
       "      <th>record - leader</th>\n",
       "      <th>control number</th>\n",
       "      <th>008</th>\n",
       "      <th>035^$ $ $a</th>\n",
       "      <th>035^$ $ $a_2</th>\n",
       "      <th>040</th>\n",
       "      <th>040^$ $ $a</th>\n",
       "      <th>040$ $ $b</th>\n",
       "      <th>040$ $ $e</th>\n",
       "      <th>041</th>\n",
       "      <th>...</th>\n",
       "      <th>504</th>\n",
       "      <th>561</th>\n",
       "      <th>563</th>\n",
       "      <th>545</th>\n",
       "      <th>260</th>\n",
       "      <th>957</th>\n",
       "      <th>090</th>\n",
       "      <th>400</th>\n",
       "      <th>863</th>\n",
       "      <th>490</th>\n",
       "    </tr>\n",
       "  </thead>\n",
       "  <tbody>\n",
       "    <tr>\n",
       "      <th>0</th>\n",
       "      <td>01160nam a2200277 u 4500</td>\n",
       "      <td>9992130780001488</td>\n",
       "      <td>900313s1570    fr |||| |w    000|0 lat c</td>\n",
       "      <td>(BeLVLBS)9992173638401471</td>\n",
       "      <td>(EXLNZ-32KUL_LIBIS_NETWORK)9992173638401471</td>\n",
       "      <td>^$ $ $aBeLVLBS$ $ $bLanguage of cataloging var...</td>\n",
       "      <td>BeLVLBS</td>\n",
       "      <td>Language of cataloging varies</td>\n",
       "      <td>rda based</td>\n",
       "      <td>^_lat</td>\n",
       "      <td>...</td>\n",
       "      <td>NaN</td>\n",
       "      <td>NaN</td>\n",
       "      <td>NaN</td>\n",
       "      <td>NaN</td>\n",
       "      <td>NaN</td>\n",
       "      <td>NaN</td>\n",
       "      <td>NaN</td>\n",
       "      <td>NaN</td>\n",
       "      <td>NaN</td>\n",
       "      <td>NaN</td>\n",
       "    </tr>\n",
       "    <tr>\n",
       "      <th>1</th>\n",
       "      <td>01290nam a2200313 u 4500</td>\n",
       "      <td>9992132490501488</td>\n",
       "      <td>900313s1570    fr |||| |w    000|0 lat c</td>\n",
       "      <td>(BeLVLBS)9992175745101471</td>\n",
       "      <td>(EXLNZ-32KUL_LIBIS_NETWORK)9992175745101471</td>\n",
       "      <td>$ $ $bLanguage of cataloging varies$ $ $erda b...</td>\n",
       "      <td>NaN</td>\n",
       "      <td>Language of cataloging varies</td>\n",
       "      <td>rda based</td>\n",
       "      <td>^_lat</td>\n",
       "      <td>...</td>\n",
       "      <td>NaN</td>\n",
       "      <td>NaN</td>\n",
       "      <td>NaN</td>\n",
       "      <td>NaN</td>\n",
       "      <td>NaN</td>\n",
       "      <td>NaN</td>\n",
       "      <td>NaN</td>\n",
       "      <td>NaN</td>\n",
       "      <td>NaN</td>\n",
       "      <td>NaN</td>\n",
       "    </tr>\n",
       "    <tr>\n",
       "      <th>2</th>\n",
       "      <td>01301nam a2200301 u 4500</td>\n",
       "      <td>9992133457501488</td>\n",
       "      <td>900313s1570    fr |||| |w    000|0 lat c</td>\n",
       "      <td>(BeLVLBS)9992178710701471</td>\n",
       "      <td>(EXLNZ-32KUL_LIBIS_NETWORK)9992178710701471</td>\n",
       "      <td>$ $ $bLanguage of cataloging varies$ $ $erda b...</td>\n",
       "      <td>NaN</td>\n",
       "      <td>Language of cataloging varies</td>\n",
       "      <td>rda based</td>\n",
       "      <td>^_lat</td>\n",
       "      <td>...</td>\n",
       "      <td>NaN</td>\n",
       "      <td>NaN</td>\n",
       "      <td>NaN</td>\n",
       "      <td>NaN</td>\n",
       "      <td>NaN</td>\n",
       "      <td>NaN</td>\n",
       "      <td>NaN</td>\n",
       "      <td>NaN</td>\n",
       "      <td>NaN</td>\n",
       "      <td>NaN</td>\n",
       "    </tr>\n",
       "    <tr>\n",
       "      <th>3</th>\n",
       "      <td>01539nam a2200289 u 4500</td>\n",
       "      <td>9992133466101488</td>\n",
       "      <td>900313s1570    fr |||| |w    000|0 lat c</td>\n",
       "      <td>(BeLVLBS)9992178720201471</td>\n",
       "      <td>(EXLNZ-32KUL_LIBIS_NETWORK)9992178720201471</td>\n",
       "      <td>$ $ $bLanguage of cataloging varies$ $ $erda b...</td>\n",
       "      <td>NaN</td>\n",
       "      <td>Language of cataloging varies</td>\n",
       "      <td>rda based</td>\n",
       "      <td>^_fre</td>\n",
       "      <td>...</td>\n",
       "      <td>NaN</td>\n",
       "      <td>NaN</td>\n",
       "      <td>NaN</td>\n",
       "      <td>NaN</td>\n",
       "      <td>NaN</td>\n",
       "      <td>NaN</td>\n",
       "      <td>NaN</td>\n",
       "      <td>NaN</td>\n",
       "      <td>NaN</td>\n",
       "      <td>NaN</td>\n",
       "    </tr>\n",
       "    <tr>\n",
       "      <th>4</th>\n",
       "      <td>01129nam a2200265 u 4500</td>\n",
       "      <td>9992133466501488</td>\n",
       "      <td>900313s1570    fr |||| |w    000|0 lat c</td>\n",
       "      <td>(BeLVLBS)9992178720501471</td>\n",
       "      <td>(EXLNZ-32KUL_LIBIS_NETWORK)9992178720501471</td>\n",
       "      <td>$ $ $bLanguage of cataloging varies$ $ $erda b...</td>\n",
       "      <td>NaN</td>\n",
       "      <td>Language of cataloging varies</td>\n",
       "      <td>rda based</td>\n",
       "      <td>^_fre</td>\n",
       "      <td>...</td>\n",
       "      <td>NaN</td>\n",
       "      <td>NaN</td>\n",
       "      <td>NaN</td>\n",
       "      <td>NaN</td>\n",
       "      <td>NaN</td>\n",
       "      <td>NaN</td>\n",
       "      <td>NaN</td>\n",
       "      <td>NaN</td>\n",
       "      <td>NaN</td>\n",
       "      <td>NaN</td>\n",
       "    </tr>\n",
       "  </tbody>\n",
       "</table>\n",
       "<p>5 rows × 158 columns</p>\n",
       "</div>"
      ],
      "text/plain": [
       "            record - leader    control number  \\\n",
       "0  01160nam a2200277 u 4500  9992130780001488   \n",
       "1  01290nam a2200313 u 4500  9992132490501488   \n",
       "2  01301nam a2200301 u 4500  9992133457501488   \n",
       "3  01539nam a2200289 u 4500  9992133466101488   \n",
       "4  01129nam a2200265 u 4500  9992133466501488   \n",
       "\n",
       "                                        008                 035^$ $ $a  \\\n",
       "0  900313s1570    fr |||| |w    000|0 lat c  (BeLVLBS)9992173638401471   \n",
       "1  900313s1570    fr |||| |w    000|0 lat c  (BeLVLBS)9992175745101471   \n",
       "2  900313s1570    fr |||| |w    000|0 lat c  (BeLVLBS)9992178710701471   \n",
       "3  900313s1570    fr |||| |w    000|0 lat c  (BeLVLBS)9992178720201471   \n",
       "4  900313s1570    fr |||| |w    000|0 lat c  (BeLVLBS)9992178720501471   \n",
       "\n",
       "                                  035^$ $ $a_2  \\\n",
       "0  (EXLNZ-32KUL_LIBIS_NETWORK)9992173638401471   \n",
       "1  (EXLNZ-32KUL_LIBIS_NETWORK)9992175745101471   \n",
       "2  (EXLNZ-32KUL_LIBIS_NETWORK)9992178710701471   \n",
       "3  (EXLNZ-32KUL_LIBIS_NETWORK)9992178720201471   \n",
       "4  (EXLNZ-32KUL_LIBIS_NETWORK)9992178720501471   \n",
       "\n",
       "                                                 040 040^$ $ $a  \\\n",
       "0  ^$ $ $aBeLVLBS$ $ $bLanguage of cataloging var...    BeLVLBS   \n",
       "1  $ $ $bLanguage of cataloging varies$ $ $erda b...        NaN   \n",
       "2  $ $ $bLanguage of cataloging varies$ $ $erda b...        NaN   \n",
       "3  $ $ $bLanguage of cataloging varies$ $ $erda b...        NaN   \n",
       "4  $ $ $bLanguage of cataloging varies$ $ $erda b...        NaN   \n",
       "\n",
       "                       040$ $ $b  040$ $ $e    041  ...  504  561  563  545  \\\n",
       "0  Language of cataloging varies  rda based  ^_lat  ...  NaN  NaN  NaN  NaN   \n",
       "1  Language of cataloging varies  rda based  ^_lat  ...  NaN  NaN  NaN  NaN   \n",
       "2  Language of cataloging varies  rda based  ^_lat  ...  NaN  NaN  NaN  NaN   \n",
       "3  Language of cataloging varies  rda based  ^_fre  ...  NaN  NaN  NaN  NaN   \n",
       "4  Language of cataloging varies  rda based  ^_fre  ...  NaN  NaN  NaN  NaN   \n",
       "\n",
       "   260  957  090  400  863  490  \n",
       "0  NaN  NaN  NaN  NaN  NaN  NaN  \n",
       "1  NaN  NaN  NaN  NaN  NaN  NaN  \n",
       "2  NaN  NaN  NaN  NaN  NaN  NaN  \n",
       "3  NaN  NaN  NaN  NaN  NaN  NaN  \n",
       "4  NaN  NaN  NaN  NaN  NaN  NaN  \n",
       "\n",
       "[5 rows x 158 columns]"
      ]
     },
     "execution_count": 277,
     "metadata": {},
     "output_type": "execute_result"
    }
   ],
   "source": [
    "df.head()"
   ]
  },
  {
   "cell_type": "code",
   "execution_count": 278,
   "id": "5d47461a",
   "metadata": {},
   "outputs": [
    {
     "data": {
      "text/plain": [
       "(1107, 158)"
      ]
     },
     "execution_count": 278,
     "metadata": {},
     "output_type": "execute_result"
    }
   ],
   "source": [
    "df.shape"
   ]
  },
  {
   "cell_type": "markdown",
   "id": "2a673a45",
   "metadata": {},
   "source": [
    "## 1.Analysis for decriptive statistics"
   ]
  },
  {
   "cell_type": "markdown",
   "id": "cbcb81f2",
   "metadata": {},
   "source": [
    "1.1 analyse the distribution of place of publication "
   ]
  },
  {
   "cell_type": "code",
   "execution_count": 279,
   "id": "4c9918e2",
   "metadata": {
    "scrolled": true
   },
   "outputs": [
    {
     "data": {
      "text/plain": [
       "count      1096\n",
       "unique       56\n",
       "top       Paris\n",
       "freq        525\n",
       "Name: Place of publication, dtype: object"
      ]
     },
     "execution_count": 279,
     "metadata": {},
     "output_type": "execute_result"
    }
   ],
   "source": [
    "df['Place of publication'].describe()"
   ]
  },
  {
   "cell_type": "code",
   "execution_count": 280,
   "id": "cccd1008",
   "metadata": {},
   "outputs": [],
   "source": [
    "# count how many books published for each place\n",
    "pop = df.groupby('Place of publication')['control number'].count()\n",
    "df_pop = pop.to_frame()\n",
    "df_pop.reset_index(inplace = True)\n",
    "df_pop.rename(columns = {'control number':'books count'},inplace = True)\n"
   ]
  },
  {
   "cell_type": "code",
   "execution_count": 281,
   "id": "66449c1d",
   "metadata": {},
   "outputs": [
    {
     "data": {
      "text/html": [
       "<div>\n",
       "<style scoped>\n",
       "    .dataframe tbody tr th:only-of-type {\n",
       "        vertical-align: middle;\n",
       "    }\n",
       "\n",
       "    .dataframe tbody tr th {\n",
       "        vertical-align: top;\n",
       "    }\n",
       "\n",
       "    .dataframe thead th {\n",
       "        text-align: right;\n",
       "    }\n",
       "</style>\n",
       "<table border=\"1\" class=\"dataframe\">\n",
       "  <thead>\n",
       "    <tr style=\"text-align: right;\">\n",
       "      <th></th>\n",
       "      <th>Place of publication</th>\n",
       "      <th>books count</th>\n",
       "      <th>percentage</th>\n",
       "    </tr>\n",
       "  </thead>\n",
       "  <tbody>\n",
       "    <tr>\n",
       "      <th>36</th>\n",
       "      <td>Paris</td>\n",
       "      <td>525</td>\n",
       "      <td>47.901460</td>\n",
       "    </tr>\n",
       "    <tr>\n",
       "      <th>23</th>\n",
       "      <td>Lugduni</td>\n",
       "      <td>302</td>\n",
       "      <td>27.554745</td>\n",
       "    </tr>\n",
       "    <tr>\n",
       "      <th>24</th>\n",
       "      <td>Lutetiae</td>\n",
       "      <td>63</td>\n",
       "      <td>5.748175</td>\n",
       "    </tr>\n",
       "    <tr>\n",
       "      <th>28</th>\n",
       "      <td>Lyon</td>\n",
       "      <td>50</td>\n",
       "      <td>4.562044</td>\n",
       "    </tr>\n",
       "    <tr>\n",
       "      <th>17</th>\n",
       "      <td>Dvaci</td>\n",
       "      <td>37</td>\n",
       "      <td>3.375912</td>\n",
       "    </tr>\n",
       "  </tbody>\n",
       "</table>\n",
       "</div>"
      ],
      "text/plain": [
       "   Place of publication  books count  percentage\n",
       "36                Paris          525   47.901460\n",
       "23             Lugduni           302   27.554745\n",
       "24             Lutetiae           63    5.748175\n",
       "28                 Lyon           50    4.562044\n",
       "17                Dvaci           37    3.375912"
      ]
     },
     "execution_count": 281,
     "metadata": {},
     "output_type": "execute_result"
    }
   ],
   "source": [
    "df_pop['percentage'] = df_pop['books count']/sum(df_pop['books count'])*100\n",
    "df_pop.sort_values(by='percentage',ascending=False)\n",
    "# df_pop.head(5)\n",
    "df_pop.nlargest(5,['books count'])\n",
    "\n"
   ]
  },
  {
   "cell_type": "code",
   "execution_count": 282,
   "id": "0991dd37",
   "metadata": {},
   "outputs": [
    {
     "data": {
      "image/png": "[encoded data removed]",
      "text/plain": [
       "<Figure size 1080x720 with 1 Axes>"
      ]
     },
     "metadata": {
      "needs_background": "light"
     },
     "output_type": "display_data"
    }
   ],
   "source": [
    "import matplotlib.pyplot as plt\n",
    "\n",
    "plt.figure(figsize = (15,10))\n",
    "plt.title('The distribution of place of publication',fontsize = 16)\n",
    "plt.xlabel(u'x-Place of publication',fontsize = 12)\n",
    "plt.ylabel(u'y-books count',fontsize = 12)\n",
    "plt.bar(df_pop['Place of publication'],df_pop['books count'],alpha=0.6,facecolor = 'orchid',edgecolor = 'orchid')\n",
    "plt.xticks(rotation=450)\n",
    "plt.show()"
   ]
  },
  {
   "cell_type": "code",
   "execution_count": 283,
   "id": "416c1368",
   "metadata": {},
   "outputs": [
    {
     "data": {
      "image/png": "[encoded data removed]",
      "text/plain": [
       "<Figure size 432x288 with 1 Axes>"
      ]
     },
     "metadata": {},
     "output_type": "display_data"
    }
   ],
   "source": [
    "# y= [525, 165,133,50,40,31,23,140]\n",
    "# labels = ['paris','Lugduni','Lvgdvni','Lyon','Lvtetiae']\n",
    "\n",
    "def my_autopct(pct):\n",
    "    return ('%.1f' % pct) if pct > 3 else ''\n",
    "\n",
    "    \n",
    "plt.pie(x=df_pop['percentage'],  \n",
    "        explode= None, \n",
    "        labels = df_pop['Place of publication'],\n",
    "        autopct=my_autopct,  \n",
    "        pctdistance=0.8,  \n",
    "        labeldistance=1.1, \n",
    "        startangle=180,  \n",
    "        radius=2, \n",
    "        counterclock=False, \n",
    "        wedgeprops={'linewidth':1, 'edgecolor':'white'},\n",
    "        textprops={'fontsize':8, 'color':'black'},\n",
    "        )\n",
    "# plt.title('Percentage of books published per place')\n",
    "plt.show()"
   ]
  },
  {
   "cell_type": "markdown",
   "id": "c402bf64",
   "metadata": {},
   "source": [
    "### 1.2 analysis for distribution of book languages "
   ]
  },
  {
   "cell_type": "code",
   "execution_count": 284,
   "id": "6504cd53",
   "metadata": {},
   "outputs": [
    {
     "data": {
      "text/plain": [
       "count      1058\n",
       "unique       20\n",
       "top       lat  \n",
       "freq        692\n",
       "Name: language, dtype: object"
      ]
     },
     "execution_count": 284,
     "metadata": {},
     "output_type": "execute_result"
    }
   ],
   "source": [
    "df['language'].describe()"
   ]
  },
  {
   "cell_type": "markdown",
   "id": "0a5d907e",
   "metadata": {},
   "source": [
    "As there are two or three languages included for certain books, I separate rows of multivalues to make it possible to abalyse in pandas dateframe. For example,a book(Id9992145780001488) was written in Lation,greek, and french, orginally showed as \"9992145780001488, lation,greek, and french\", I divide it into three rows\"9992145780001488,Latin\", \"9992145780001488,greek\", and \"9992145780001488,french\"."
   ]
  },
  {
   "cell_type": "code",
   "execution_count": 285,
   "id": "7c161c19",
   "metadata": {},
   "outputs": [
    {
     "data": {
      "text/html": [
       "<div>\n",
       "<style scoped>\n",
       "    .dataframe tbody tr th:only-of-type {\n",
       "        vertical-align: middle;\n",
       "    }\n",
       "\n",
       "    .dataframe tbody tr th {\n",
       "        vertical-align: top;\n",
       "    }\n",
       "\n",
       "    .dataframe thead th {\n",
       "        text-align: right;\n",
       "    }\n",
       "</style>\n",
       "<table border=\"1\" class=\"dataframe\">\n",
       "  <thead>\n",
       "    <tr style=\"text-align: right;\">\n",
       "      <th></th>\n",
       "      <th>control number</th>\n",
       "      <th>language</th>\n",
       "    </tr>\n",
       "  </thead>\n",
       "  <tbody>\n",
       "    <tr>\n",
       "      <th>0</th>\n",
       "      <td>9992130780001488</td>\n",
       "      <td>NaN</td>\n",
       "    </tr>\n",
       "    <tr>\n",
       "      <th>1</th>\n",
       "      <td>9992132490501488</td>\n",
       "      <td>NaN</td>\n",
       "    </tr>\n",
       "    <tr>\n",
       "      <th>2</th>\n",
       "      <td>9992133457501488</td>\n",
       "      <td>NaN</td>\n",
       "    </tr>\n",
       "    <tr>\n",
       "      <th>3</th>\n",
       "      <td>9992133466101488</td>\n",
       "      <td>NaN</td>\n",
       "    </tr>\n",
       "    <tr>\n",
       "      <th>4</th>\n",
       "      <td>9992133466501488</td>\n",
       "      <td>NaN</td>\n",
       "    </tr>\n",
       "    <tr>\n",
       "      <th>...</th>\n",
       "      <td>...</td>\n",
       "      <td>...</td>\n",
       "    </tr>\n",
       "    <tr>\n",
       "      <th>1102</th>\n",
       "      <td>9912185740101488</td>\n",
       "      <td>NaN</td>\n",
       "    </tr>\n",
       "    <tr>\n",
       "      <th>1103</th>\n",
       "      <td>9912186430101488</td>\n",
       "      <td>NaN</td>\n",
       "    </tr>\n",
       "    <tr>\n",
       "      <th>1104</th>\n",
       "      <td>9912233500101488</td>\n",
       "      <td>NaN</td>\n",
       "    </tr>\n",
       "    <tr>\n",
       "      <th>1105</th>\n",
       "      <td>9912244960101488</td>\n",
       "      <td>NaN</td>\n",
       "    </tr>\n",
       "    <tr>\n",
       "      <th>1106</th>\n",
       "      <td>9912335880101488</td>\n",
       "      <td>NaN</td>\n",
       "    </tr>\n",
       "  </tbody>\n",
       "</table>\n",
       "<p>1107 rows × 2 columns</p>\n",
       "</div>"
      ],
      "text/plain": [
       "        control number language\n",
       "0     9992130780001488      NaN\n",
       "1     9992132490501488      NaN\n",
       "2     9992133457501488      NaN\n",
       "3     9992133466101488      NaN\n",
       "4     9992133466501488      NaN\n",
       "...                ...      ...\n",
       "1102  9912185740101488      NaN\n",
       "1103  9912186430101488      NaN\n",
       "1104  9912233500101488      NaN\n",
       "1105  9912244960101488      NaN\n",
       "1106  9912335880101488      NaN\n",
       "\n",
       "[1107 rows x 2 columns]"
      ]
     },
     "execution_count": 285,
     "metadata": {},
     "output_type": "execute_result"
    }
   ],
   "source": [
    "dfl1 = df.loc[:,['control number','language 1']].rename(columns = {'language 1':'language'})\n",
    "dfl2 = df.loc[:,['control number','language 2']].rename(columns = {'language 2':'language'})\n",
    "dfl3 = df.loc[:,['control number','language 3']].rename(columns = {'language 3':'language'})\n",
    "dfl3"
   ]
  },
  {
   "cell_type": "code",
   "execution_count": 286,
   "id": "6ab0929d",
   "metadata": {},
   "outputs": [
    {
     "data": {
      "text/html": [
       "<div>\n",
       "<style scoped>\n",
       "    .dataframe tbody tr th:only-of-type {\n",
       "        vertical-align: middle;\n",
       "    }\n",
       "\n",
       "    .dataframe tbody tr th {\n",
       "        vertical-align: top;\n",
       "    }\n",
       "\n",
       "    .dataframe thead th {\n",
       "        text-align: right;\n",
       "    }\n",
       "</style>\n",
       "<table border=\"1\" class=\"dataframe\">\n",
       "  <thead>\n",
       "    <tr style=\"text-align: right;\">\n",
       "      <th></th>\n",
       "      <th>control number</th>\n",
       "      <th>language</th>\n",
       "    </tr>\n",
       "  </thead>\n",
       "  <tbody>\n",
       "    <tr>\n",
       "      <th>0</th>\n",
       "      <td>9992130780001488</td>\n",
       "      <td>lat</td>\n",
       "    </tr>\n",
       "    <tr>\n",
       "      <th>1</th>\n",
       "      <td>9992132490501488</td>\n",
       "      <td>lat</td>\n",
       "    </tr>\n",
       "    <tr>\n",
       "      <th>2</th>\n",
       "      <td>9992133457501488</td>\n",
       "      <td>lat</td>\n",
       "    </tr>\n",
       "    <tr>\n",
       "      <th>3</th>\n",
       "      <td>9992133466101488</td>\n",
       "      <td>fre</td>\n",
       "    </tr>\n",
       "    <tr>\n",
       "      <th>4</th>\n",
       "      <td>9992133466501488</td>\n",
       "      <td>fre</td>\n",
       "    </tr>\n",
       "    <tr>\n",
       "      <th>...</th>\n",
       "      <td>...</td>\n",
       "      <td>...</td>\n",
       "    </tr>\n",
       "    <tr>\n",
       "      <th>1086</th>\n",
       "      <td>9911248610101488</td>\n",
       "      <td>gre</td>\n",
       "    </tr>\n",
       "    <tr>\n",
       "      <th>39</th>\n",
       "      <td>9992185397301488</td>\n",
       "      <td>lat</td>\n",
       "    </tr>\n",
       "    <tr>\n",
       "      <th>175</th>\n",
       "      <td>9919144900101488</td>\n",
       "      <td>syc</td>\n",
       "    </tr>\n",
       "    <tr>\n",
       "      <th>532</th>\n",
       "      <td>9984024190101488</td>\n",
       "      <td>heb</td>\n",
       "    </tr>\n",
       "    <tr>\n",
       "      <th>623</th>\n",
       "      <td>9984953370101488</td>\n",
       "      <td>grc</td>\n",
       "    </tr>\n",
       "  </tbody>\n",
       "</table>\n",
       "<p>1149 rows × 2 columns</p>\n",
       "</div>"
      ],
      "text/plain": [
       "        control number language\n",
       "0     9992130780001488      lat\n",
       "1     9992132490501488      lat\n",
       "2     9992133457501488      lat\n",
       "3     9992133466101488      fre\n",
       "4     9992133466501488      fre\n",
       "...                ...      ...\n",
       "1086  9911248610101488      gre\n",
       "39    9992185397301488      lat\n",
       "175   9919144900101488      syc\n",
       "532   9984024190101488      heb\n",
       "623   9984953370101488      grc\n",
       "\n",
       "[1149 rows x 2 columns]"
      ]
     },
     "execution_count": 286,
     "metadata": {},
     "output_type": "execute_result"
    }
   ],
   "source": [
    "dfl = pd.concat([dfl1,dfl2,dfl3]).dropna()\n",
    "dfl"
   ]
  },
  {
   "cell_type": "markdown",
   "id": "0fe832b4",
   "metadata": {},
   "source": [
    "1.2.1 How many books including more than one language? "
   ]
  },
  {
   "cell_type": "code",
   "execution_count": 287,
   "id": "d105395f",
   "metadata": {},
   "outputs": [
    {
     "data": {
      "text/html": [
       "<div>\n",
       "<style scoped>\n",
       "    .dataframe tbody tr th:only-of-type {\n",
       "        vertical-align: middle;\n",
       "    }\n",
       "\n",
       "    .dataframe tbody tr th {\n",
       "        vertical-align: top;\n",
       "    }\n",
       "\n",
       "    .dataframe thead th {\n",
       "        text-align: right;\n",
       "    }\n",
       "</style>\n",
       "<table border=\"1\" class=\"dataframe\">\n",
       "  <thead>\n",
       "    <tr style=\"text-align: right;\">\n",
       "      <th></th>\n",
       "      <th>control number</th>\n",
       "      <th>number of books</th>\n",
       "    </tr>\n",
       "  </thead>\n",
       "  <tbody>\n",
       "    <tr>\n",
       "      <th>0</th>\n",
       "      <td>99557680101488</td>\n",
       "      <td>2</td>\n",
       "    </tr>\n",
       "    <tr>\n",
       "      <th>1</th>\n",
       "      <td>99567340101488</td>\n",
       "      <td>1</td>\n",
       "    </tr>\n",
       "    <tr>\n",
       "      <th>2</th>\n",
       "      <td>99580490101488</td>\n",
       "      <td>2</td>\n",
       "    </tr>\n",
       "    <tr>\n",
       "      <th>3</th>\n",
       "      <td>99590790101488</td>\n",
       "      <td>1</td>\n",
       "    </tr>\n",
       "    <tr>\n",
       "      <th>4</th>\n",
       "      <td>991456620101488</td>\n",
       "      <td>1</td>\n",
       "    </tr>\n",
       "    <tr>\n",
       "      <th>...</th>\n",
       "      <td>...</td>\n",
       "      <td>...</td>\n",
       "    </tr>\n",
       "    <tr>\n",
       "      <th>1053</th>\n",
       "      <td>9992616206101488</td>\n",
       "      <td>1</td>\n",
       "    </tr>\n",
       "    <tr>\n",
       "      <th>1054</th>\n",
       "      <td>9992616206301488</td>\n",
       "      <td>1</td>\n",
       "    </tr>\n",
       "    <tr>\n",
       "      <th>1055</th>\n",
       "      <td>9992616208201488</td>\n",
       "      <td>1</td>\n",
       "    </tr>\n",
       "    <tr>\n",
       "      <th>1056</th>\n",
       "      <td>9992623309501488</td>\n",
       "      <td>1</td>\n",
       "    </tr>\n",
       "    <tr>\n",
       "      <th>1057</th>\n",
       "      <td>9992628398901488</td>\n",
       "      <td>1</td>\n",
       "    </tr>\n",
       "  </tbody>\n",
       "</table>\n",
       "<p>1058 rows × 2 columns</p>\n",
       "</div>"
      ],
      "text/plain": [
       "        control number  number of books\n",
       "0       99557680101488                2\n",
       "1       99567340101488                1\n",
       "2       99580490101488                2\n",
       "3       99590790101488                1\n",
       "4      991456620101488                1\n",
       "...                ...              ...\n",
       "1053  9992616206101488                1\n",
       "1054  9992616206301488                1\n",
       "1055  9992616208201488                1\n",
       "1056  9992623309501488                1\n",
       "1057  9992628398901488                1\n",
       "\n",
       "[1058 rows x 2 columns]"
      ]
     },
     "execution_count": 287,
     "metadata": {},
     "output_type": "execute_result"
    }
   ],
   "source": [
    "language_a = dfl.groupby('control number')['language'].count()\n",
    "df_language = language_a.to_frame()\n",
    "df_language.reset_index(inplace = True)\n",
    "df_language.rename(columns = {'language':'number of books'},inplace = True)\n",
    "df_language"
   ]
  },
  {
   "cell_type": "code",
   "execution_count": 288,
   "id": "9fb2fb43",
   "metadata": {},
   "outputs": [
    {
     "data": {
      "text/plain": [
       "number of books\n",
       "1    971\n",
       "2     83\n",
       "3      4\n",
       "Name: control number, dtype: int64"
      ]
     },
     "execution_count": 288,
     "metadata": {},
     "output_type": "execute_result"
    }
   ],
   "source": [
    "df_language.groupby('number of books')['control number'].count()"
   ]
  },
  {
   "cell_type": "markdown",
   "id": "5007c76c",
   "metadata": {},
   "source": [
    "1.2.2 what is the top 5 language for books?"
   ]
  },
  {
   "cell_type": "code",
   "execution_count": 289,
   "id": "1b6350e4",
   "metadata": {},
   "outputs": [
    {
     "data": {
      "text/html": [
       "<div>\n",
       "<style scoped>\n",
       "    .dataframe tbody tr th:only-of-type {\n",
       "        vertical-align: middle;\n",
       "    }\n",
       "\n",
       "    .dataframe tbody tr th {\n",
       "        vertical-align: top;\n",
       "    }\n",
       "\n",
       "    .dataframe thead th {\n",
       "        text-align: right;\n",
       "    }\n",
       "</style>\n",
       "<table border=\"1\" class=\"dataframe\">\n",
       "  <thead>\n",
       "    <tr style=\"text-align: right;\">\n",
       "      <th></th>\n",
       "      <th>language</th>\n",
       "      <th>languages count</th>\n",
       "    </tr>\n",
       "  </thead>\n",
       "  <tbody>\n",
       "    <tr>\n",
       "      <th>0</th>\n",
       "      <td>eng</td>\n",
       "      <td>1</td>\n",
       "    </tr>\n",
       "    <tr>\n",
       "      <th>1</th>\n",
       "      <td>fre</td>\n",
       "      <td>266</td>\n",
       "    </tr>\n",
       "    <tr>\n",
       "      <th>2</th>\n",
       "      <td>ger</td>\n",
       "      <td>5</td>\n",
       "    </tr>\n",
       "    <tr>\n",
       "      <th>3</th>\n",
       "      <td>grc</td>\n",
       "      <td>69</td>\n",
       "    </tr>\n",
       "    <tr>\n",
       "      <th>4</th>\n",
       "      <td>gre</td>\n",
       "      <td>20</td>\n",
       "    </tr>\n",
       "    <tr>\n",
       "      <th>5</th>\n",
       "      <td>heb</td>\n",
       "      <td>5</td>\n",
       "    </tr>\n",
       "    <tr>\n",
       "      <th>6</th>\n",
       "      <td>ita</td>\n",
       "      <td>4</td>\n",
       "    </tr>\n",
       "    <tr>\n",
       "      <th>7</th>\n",
       "      <td>lat</td>\n",
       "      <td>776</td>\n",
       "    </tr>\n",
       "    <tr>\n",
       "      <th>8</th>\n",
       "      <td>spa</td>\n",
       "      <td>1</td>\n",
       "    </tr>\n",
       "    <tr>\n",
       "      <th>9</th>\n",
       "      <td>syc</td>\n",
       "      <td>2</td>\n",
       "    </tr>\n",
       "  </tbody>\n",
       "</table>\n",
       "</div>"
      ],
      "text/plain": [
       "  language  languages count\n",
       "0      eng                1\n",
       "1      fre              266\n",
       "2      ger                5\n",
       "3      grc               69\n",
       "4      gre               20\n",
       "5      heb                5\n",
       "6      ita                4\n",
       "7      lat              776\n",
       "8      spa                1\n",
       "9      syc                2"
      ]
     },
     "execution_count": 289,
     "metadata": {},
     "output_type": "execute_result"
    }
   ],
   "source": [
    "language_b = dfl.groupby('language')['control number'].count()\n",
    "df_language_b = language_b.to_frame()\n",
    "df_language_b.reset_index(inplace = True)\n",
    "df_language_b.rename(columns = {'control number':'languages count'},inplace = True)\n",
    "df_language_b"
   ]
  },
  {
   "cell_type": "code",
   "execution_count": 290,
   "id": "d90598c5",
   "metadata": {},
   "outputs": [
    {
     "data": {
      "image/png": "[encoded data removed]",
      "text/plain": [
       "<Figure size 1080x720 with 1 Axes>"
      ]
     },
     "metadata": {
      "needs_background": "light"
     },
     "output_type": "display_data"
    }
   ],
   "source": [
    "plt.figure(figsize = (15,10))\n",
    "plt.title('Distribution of books pre language',fontsize = 16)\n",
    "plt.xlabel(u'x-languages count',fontsize = 12)\n",
    "plt.ylabel(u'y-language',fontsize = 12)\n",
    "plt.barh(df_language_b['language'],df_language_b['languages count'],alpha=0.6,facecolor = 'orchid',edgecolor = 'orchid')\n",
    "plt.show()"
   ]
  },
  {
   "cell_type": "code",
   "execution_count": 291,
   "id": "b4878d07",
   "metadata": {},
   "outputs": [
    {
     "data": {
      "image/png": "[encoded data removed]",
      "text/plain": [
       "<Figure size 432x288 with 1 Axes>"
      ]
     },
     "metadata": {},
     "output_type": "display_data"
    }
   ],
   "source": [
    "\n",
    "def my_autopct(pct):\n",
    "    return ('%.1f' % pct) if pct > 1 else ''\n",
    "\n",
    "plt.pie(x=df_language_b['languages count'],  \n",
    "        explode= None, \n",
    "        labels = df_language_b['language'],\n",
    "        autopct= my_autopct,  \n",
    "        pctdistance=0.8,  \n",
    "        labeldistance=1.1, \n",
    "        startangle=180,  \n",
    "        radius=2, \n",
    "        counterclock=False, \n",
    "        wedgeprops={'linewidth':1, 'edgecolor':'white'},\n",
    "        textprops={'fontsize':8, 'color':'black'},\n",
    "        )\n",
    "\n",
    "plt.show()\n"
   ]
  },
  {
   "cell_type": "code",
   "execution_count": 292,
   "id": "b2c3ecae",
   "metadata": {
    "scrolled": false
   },
   "outputs": [
    {
     "data": {
      "text/plain": [
       "language\n",
       "eng              1\n",
       "fre            254\n",
       "fre grc          2\n",
       "fre gre lat      1\n",
       "fre ita          1\n",
       "fre lat          5\n",
       "ger              5\n",
       "grc             15\n",
       "grc lat         19\n",
       "grc lat syc      1\n",
       "gre lat          3\n",
       "ita              3\n",
       "lat            692\n",
       "lat fre          3\n",
       "lat grc         31\n",
       "lat gre         15\n",
       "lat gre heb      1\n",
       "lat heb          4\n",
       "lat syc grc      1\n",
       "spa              1\n",
       "Name: control number, dtype: int64"
      ]
     },
     "execution_count": 292,
     "metadata": {},
     "output_type": "execute_result"
    }
   ],
   "source": [
    "language_b1 = df.groupby('language')['control number'].count()\n",
    "language_b1"
   ]
  },
  {
   "cell_type": "markdown",
   "id": "a68ffc40",
   "metadata": {},
   "source": [
    "## 2.linguistic features"
   ]
  },
  {
   "cell_type": "markdown",
   "id": "8f5705c1",
   "metadata": {},
   "source": [
    "2 the most frequent terms in title "
   ]
  },
  {
   "cell_type": "code",
   "execution_count": 294,
   "id": "b4b945bd",
   "metadata": {},
   "outputs": [
    {
     "name": "stderr",
     "output_type": "stream",
     "text": [
      "[nltk_data] Downloading package punkt to C:\\Users\\Riley\n",
      "[nltk_data]     vlog\\AppData\\Roaming\\nltk_data...\n",
      "[nltk_data]   Package punkt is already up-to-date!\n"
     ]
    },
    {
     "data": {
      "text/plain": [
       "True"
      ]
     },
     "execution_count": 294,
     "metadata": {},
     "output_type": "execute_result"
    }
   ],
   "source": [
    "import nltk\n",
    "nltk.download('punkt')\n",
    "\n",
    "# from nltk.corpus import stopwords\n",
    "# latin_stopwords = stopwords.words(\"latin\")\n"
   ]
  },
  {
   "cell_type": "code",
   "execution_count": 296,
   "id": "da079c92",
   "metadata": {},
   "outputs": [
    {
     "name": "stdout",
     "output_type": "stream",
     "text": [
      "libri\n"
     ]
    }
   ],
   "source": [
    "corpus = []\n",
    "for text in df['Title']:\n",
    "    for token in nltk.word_tokenize(text):\n",
    "        if token not in \".,?!:;()[]''``*&et.../deinDelades\":\n",
    "            corpus.append(token.lower())\n",
    "\n",
    "word_counter = {}\n",
    "for word in corpus:\n",
    "    if word not in word_counter:\n",
    "        word_counter[word] = 0\n",
    "    word_counter[word] += 1  \n",
    "    \n",
    "# print(word_counter)\n",
    "# print(max(word_counter.values()))\n",
    "\n",
    "for word, count in word_counter.items():\n",
    "    if count == max(word_counter.values()):\n",
    "        print(word)"
   ]
  },
  {
   "cell_type": "markdown",
   "id": "f97ec1f1",
   "metadata": {},
   "source": [
    "## 3.Social_network analysis"
   ]
  },
  {
   "cell_type": "markdown",
   "id": "73187248",
   "metadata": {},
   "source": [
    "data prepartion for gephi"
   ]
  },
  {
   "cell_type": "code",
   "execution_count": 299,
   "id": "207fcd16",
   "metadata": {},
   "outputs": [],
   "source": [
    "df1 = df.loc[:,['control number','personal_name_1','personal_relationship_1']]\n",
    "df2 = df.loc[:,['control number','personal_name_2','personal_relationship_2']]\n",
    "df3 = df.loc[:,['control number','personal_name_3','personal_relationship_3']]\n",
    "df4 = df.loc[:,['control number','personal_name_4','personal_relationship_4']]\n",
    "df5 = df.loc[:,['control number','personal_name_5','personal_relationship_5']]\n",
    "df6 = df.loc[:,['control number','personal_name_6','personal_relationship_6']]\n",
    "df7 = df.loc[:,['control number','personal_name_7','personal_relationship_7']]\n",
    "df8 = df.loc[:,['control number','personal_name_8','personal_relationship_8']]\n",
    "df9 = df.loc[:,['control number','personal_name_9','personal_relationship_9']]\n",
    "df10 = df.loc[:,['control number','personal_name_10','personal_relationship_10']]\n",
    "df11 = df.loc[:,['control number','personal_name_11','personal_relationship_11']]\n",
    "df12 = df.loc[:,['control number','personal_name_12','personal_relationship_12']]\n",
    "df13 = df.loc[:,['control number','personal_name_13','personal_relationship_13']]\n",
    "df14 = df.loc[:,['control number','personal_name_14','personal_relationship_14']]\n",
    "df15 = df.loc[:,['control number','personal_name_15','personal_relationship_15']]\n",
    "df16 = df.loc[:,['control number','personal_name_16','personal_relationship_16']]\n",
    "df17 = df.loc[:,['control number','personal_name_17','personal_relationship_17']]\n",
    "df18 = df.loc[:,['control number','personal_name_18','personal_relationship_18']]\n",
    "df19 = df.loc[:,['control number','personal_name_19','personal_relationship_19']]\n",
    "df20 = df.loc[:,['control number','personal_name_20','personal_relationship_20']]\n",
    "df21 = df.loc[:,['control number','personal_name_21','personal_relationship_21']]\n",
    "df22 = df.loc[:,['control number','personal_name_22','personal_relationship_22']]\n",
    "df23 = df.loc[:,['control number','personal_name_23','personal_relationship_23']]\n",
    "\n",
    "#.dropna(how='all')\n"
   ]
  },
  {
   "cell_type": "code",
   "execution_count": 301,
   "id": "38bd384a",
   "metadata": {},
   "outputs": [],
   "source": [
    "df1.rename(columns = {'personal_name_1':'personal name','personal_relationship_1':'personal relationship'},inplace = True)\n",
    "df2.rename(columns = {'personal_name_2':'personal name','personal_relationship_2':'personal relationship'},inplace = True)\n",
    "df3.rename(columns = {'personal_name_3':'personal name','personal_relationship_3':'personal relationship'},inplace = True)\n",
    "df4.rename(columns = {'personal_name_4':'personal name','personal_relationship_4':'personal relationship'},inplace = True)\n",
    "df5.rename(columns = {'personal_name_5':'personal name','personal_relationship_5':'personal relationship'},inplace = True)\n",
    "df6.rename(columns = {'personal_name_6':'personal name','personal_relationship_6':'personal relationship'},inplace = True)\n",
    "df7.rename(columns = {'personal_name_7':'personal name','personal_relationship_7':'personal relationship'},inplace = True)\n",
    "df8.rename(columns = {'personal_name_8':'personal name','personal_relationship_8':'personal relationship'},inplace = True)\n",
    "df9.rename(columns = {'personal_name_9':'personal name','personal_relationship_9':'personal relationship'},inplace = True)\n",
    "df10.rename(columns = {'personal_name_10':'personal name','personal_relationship_10':'personal relationship'},inplace = True)\n",
    "df11.rename(columns = {'personal_name_11':'personal name','personal_relationship_11':'personal relationship'},inplace = True)\n",
    "df12.rename(columns = {'personal_name_12':'personal name','personal_relationship_12':'personal relationship'},inplace = True)\n",
    "df13.rename(columns = {'personal_name_13':'personal name','personal_relationship_13':'personal relationship'},inplace = True)\n",
    "df14.rename(columns = {'personal_name_14':'personal name','personal_relationship_14':'personal relationship'},inplace = True)\n",
    "df15.rename(columns = {'personal_name_15':'personal name','personal_relationship_15':'personal relationship'},inplace = True)\n",
    "df16.rename(columns = {'personal_name_16':'personal name','personal_relationship_16':'personal relationship'},inplace = True)\n",
    "df17.rename(columns = {'personal_name_17':'personal name','personal_relationship_17':'personal relationship'},inplace = True)\n",
    "df18.rename(columns = {'personal_name_18':'personal name','personal_relationship_18':'personal relationship'},inplace = True)\n",
    "df19.rename(columns = {'personal_name_19':'personal name','personal_relationship_19':'personal relationship'},inplace = True)\n",
    "df20.rename(columns = {'personal_name_20':'personal name','personal_relationship_20':'personal relationship'},inplace = True)\n",
    "df21.rename(columns = {'personal_name_21':'personal name','personal_relationship_21':'personal relationship'},inplace = True)\n",
    "df22.rename(columns = {'personal_name_22':'personal name','personal_relationship_22':'personal relationship'},inplace = True)\n",
    "df23.rename(columns = {'personal_name_23':'personal name','personal_relationship_23':'personal relationship'},inplace = True)"
   ]
  },
  {
   "cell_type": "code",
   "execution_count": 302,
   "id": "60283760",
   "metadata": {},
   "outputs": [
    {
     "data": {
      "text/html": [
       "<div>\n",
       "<style scoped>\n",
       "    .dataframe tbody tr th:only-of-type {\n",
       "        vertical-align: middle;\n",
       "    }\n",
       "\n",
       "    .dataframe tbody tr th {\n",
       "        vertical-align: top;\n",
       "    }\n",
       "\n",
       "    .dataframe thead th {\n",
       "        text-align: right;\n",
       "    }\n",
       "</style>\n",
       "<table border=\"1\" class=\"dataframe\">\n",
       "  <thead>\n",
       "    <tr style=\"text-align: right;\">\n",
       "      <th></th>\n",
       "      <th>control number</th>\n",
       "      <th>personal name</th>\n",
       "      <th>personal relationship</th>\n",
       "    </tr>\n",
       "  </thead>\n",
       "  <tbody>\n",
       "    <tr>\n",
       "      <th>1</th>\n",
       "      <td>9992132490501488</td>\n",
       "      <td>Rebuffi, Pierre</td>\n",
       "      <td>aut</td>\n",
       "    </tr>\n",
       "    <tr>\n",
       "      <th>2</th>\n",
       "      <td>9992133457501488</td>\n",
       "      <td>Priscianus Caesariensis.</td>\n",
       "      <td>aut</td>\n",
       "    </tr>\n",
       "    <tr>\n",
       "      <th>4</th>\n",
       "      <td>9992133466501488</td>\n",
       "      <td>Le Roy, Louis</td>\n",
       "      <td>aut</td>\n",
       "    </tr>\n",
       "    <tr>\n",
       "      <th>5</th>\n",
       "      <td>9992133467601488</td>\n",
       "      <td>Delbène, Alphonse</td>\n",
       "      <td>aut</td>\n",
       "    </tr>\n",
       "    <tr>\n",
       "      <th>6</th>\n",
       "      <td>9992135299701488</td>\n",
       "      <td>Anselmus Cantuariensis</td>\n",
       "      <td>aut</td>\n",
       "    </tr>\n",
       "    <tr>\n",
       "      <th>...</th>\n",
       "      <td>...</td>\n",
       "      <td>...</td>\n",
       "      <td>...</td>\n",
       "    </tr>\n",
       "    <tr>\n",
       "      <th>202</th>\n",
       "      <td>9935346840101488</td>\n",
       "      <td>Viringus, Georgius W.</td>\n",
       "      <td>eul</td>\n",
       "    </tr>\n",
       "    <tr>\n",
       "      <th>202</th>\n",
       "      <td>9935346840101488</td>\n",
       "      <td>Viringus, Jacobus Walterius</td>\n",
       "      <td>eul</td>\n",
       "    </tr>\n",
       "    <tr>\n",
       "      <th>202</th>\n",
       "      <td>9935346840101488</td>\n",
       "      <td>Viringus, Joannes Walterius</td>\n",
       "      <td>aut</td>\n",
       "    </tr>\n",
       "    <tr>\n",
       "      <th>202</th>\n",
       "      <td>9935346840101488</td>\n",
       "      <td>Viringus, Johannes Walters</td>\n",
       "      <td>eul</td>\n",
       "    </tr>\n",
       "    <tr>\n",
       "      <th>202</th>\n",
       "      <td>9935346840101488</td>\n",
       "      <td>Wynantius, Petrus</td>\n",
       "      <td>eul</td>\n",
       "    </tr>\n",
       "  </tbody>\n",
       "</table>\n",
       "<p>2522 rows × 3 columns</p>\n",
       "</div>"
      ],
      "text/plain": [
       "       control number                personal name personal relationship\n",
       "1    9992132490501488              Rebuffi, Pierre                   aut\n",
       "2    9992133457501488     Priscianus Caesariensis.                   aut\n",
       "4    9992133466501488                Le Roy, Louis                   aut\n",
       "5    9992133467601488            Delbène, Alphonse                   aut\n",
       "6    9992135299701488       Anselmus Cantuariensis                   aut\n",
       "..                ...                          ...                   ...\n",
       "202  9935346840101488        Viringus, Georgius W.                   eul\n",
       "202  9935346840101488  Viringus, Jacobus Walterius                   eul\n",
       "202  9935346840101488  Viringus, Joannes Walterius                   aut\n",
       "202  9935346840101488   Viringus, Johannes Walters                   eul\n",
       "202  9935346840101488            Wynantius, Petrus                   eul\n",
       "\n",
       "[2522 rows x 3 columns]"
      ]
     },
     "execution_count": 302,
     "metadata": {},
     "output_type": "execute_result"
    }
   ],
   "source": [
    "df_network = pd.concat([df1,df2,df3,df4,df5,df6,df7,df8,df9,df10,df11,df12,df13,df14,df15,df16,df17,df18,df19,df20,df21,df22,df23]).dropna(thresh=2)\n",
    "df_network"
   ]
  },
  {
   "cell_type": "code",
   "execution_count": 303,
   "id": "2e2cd7dc",
   "metadata": {},
   "outputs": [],
   "source": [
    "df_network.to_csv('D:\\KU Leuven\\DH Introduction\\Assignment2\\social_network_data.csv')"
   ]
  },
  {
   "cell_type": "code",
   "execution_count": 304,
   "id": "688b1bec",
   "metadata": {},
   "outputs": [],
   "source": [
    "df_1 = pd.read_csv(r'D:\\KU Leuven\\DH Introduction\\Assignment2\\social-network-data-csv_1.csv')"
   ]
  },
  {
   "cell_type": "code",
   "execution_count": 305,
   "id": "702732df",
   "metadata": {},
   "outputs": [],
   "source": [
    "df_11 = df_1.loc[:,['control number','personal name 1','personal relationship']]\n",
    "df_12 = df_1.loc[:,['control number','personal name 2','personal relationship']]\n",
    "df_13 = df_1.loc[:,['control number','personal name 3','personal relationship']]"
   ]
  },
  {
   "cell_type": "code",
   "execution_count": 306,
   "id": "323150b6",
   "metadata": {},
   "outputs": [],
   "source": [
    "df_11.rename(columns = {'personal name 1':'personal name'},inplace = True)\n",
    "df_12.rename(columns = {'personal name 2':'personal name'},inplace = True)\n",
    "df_13.rename(columns = {'personal name 3':'personal name'},inplace = True)"
   ]
  },
  {
   "cell_type": "code",
   "execution_count": 307,
   "id": "67b5ab42",
   "metadata": {
    "scrolled": true
   },
   "outputs": [
    {
     "data": {
      "text/html": [
       "<div>\n",
       "<style scoped>\n",
       "    .dataframe tbody tr th:only-of-type {\n",
       "        vertical-align: middle;\n",
       "    }\n",
       "\n",
       "    .dataframe tbody tr th {\n",
       "        vertical-align: top;\n",
       "    }\n",
       "\n",
       "    .dataframe thead th {\n",
       "        text-align: right;\n",
       "    }\n",
       "</style>\n",
       "<table border=\"1\" class=\"dataframe\">\n",
       "  <thead>\n",
       "    <tr style=\"text-align: right;\">\n",
       "      <th></th>\n",
       "      <th>control number</th>\n",
       "      <th>personal name</th>\n",
       "      <th>personal relationship</th>\n",
       "    </tr>\n",
       "  </thead>\n",
       "  <tbody>\n",
       "    <tr>\n",
       "      <th>0</th>\n",
       "      <td>9992132490501488</td>\n",
       "      <td>Rebuffi</td>\n",
       "      <td>aut</td>\n",
       "    </tr>\n",
       "    <tr>\n",
       "      <th>1</th>\n",
       "      <td>9992133457501488</td>\n",
       "      <td>Priscianus Caesariensis.</td>\n",
       "      <td>aut</td>\n",
       "    </tr>\n",
       "    <tr>\n",
       "      <th>2</th>\n",
       "      <td>9992133466501488</td>\n",
       "      <td>Le Roy</td>\n",
       "      <td>aut</td>\n",
       "    </tr>\n",
       "    <tr>\n",
       "      <th>3</th>\n",
       "      <td>9992133467601488</td>\n",
       "      <td>Delbène</td>\n",
       "      <td>aut</td>\n",
       "    </tr>\n",
       "    <tr>\n",
       "      <th>4</th>\n",
       "      <td>9992135299701488</td>\n",
       "      <td>Anselmus Cantuariensis</td>\n",
       "      <td>aut</td>\n",
       "    </tr>\n",
       "    <tr>\n",
       "      <th>...</th>\n",
       "      <td>...</td>\n",
       "      <td>...</td>\n",
       "      <td>...</td>\n",
       "    </tr>\n",
       "    <tr>\n",
       "      <th>2518</th>\n",
       "      <td>9935346840101488</td>\n",
       "      <td>Jacobus Walterius</td>\n",
       "      <td>eul</td>\n",
       "    </tr>\n",
       "    <tr>\n",
       "      <th>2519</th>\n",
       "      <td>9935346840101488</td>\n",
       "      <td>Joannes Walterius</td>\n",
       "      <td>aut</td>\n",
       "    </tr>\n",
       "    <tr>\n",
       "      <th>2520</th>\n",
       "      <td>9935346840101488</td>\n",
       "      <td>Johannes Walters</td>\n",
       "      <td>eul</td>\n",
       "    </tr>\n",
       "    <tr>\n",
       "      <th>2521</th>\n",
       "      <td>9935346840101488</td>\n",
       "      <td>Petrus</td>\n",
       "      <td>eul</td>\n",
       "    </tr>\n",
       "    <tr>\n",
       "      <th>1488</th>\n",
       "      <td>9926798790101488</td>\n",
       "      <td>cardinalis</td>\n",
       "      <td>dte</td>\n",
       "    </tr>\n",
       "  </tbody>\n",
       "</table>\n",
       "<p>4509 rows × 3 columns</p>\n",
       "</div>"
      ],
      "text/plain": [
       "        control number             personal name personal relationship\n",
       "0     9992132490501488                   Rebuffi                   aut\n",
       "1     9992133457501488  Priscianus Caesariensis.                   aut\n",
       "2     9992133466501488                    Le Roy                   aut\n",
       "3     9992133467601488                   Delbène                   aut\n",
       "4     9992135299701488    Anselmus Cantuariensis                   aut\n",
       "...                ...                       ...                   ...\n",
       "2518  9935346840101488         Jacobus Walterius                   eul\n",
       "2519  9935346840101488         Joannes Walterius                   aut\n",
       "2520  9935346840101488          Johannes Walters                   eul\n",
       "2521  9935346840101488                    Petrus                   eul\n",
       "1488  9926798790101488               cardinalis                    dte\n",
       "\n",
       "[4509 rows x 3 columns]"
      ]
     },
     "execution_count": 307,
     "metadata": {},
     "output_type": "execute_result"
    }
   ],
   "source": [
    "df_network_final = pd.concat([df_11,df_12,df_13]).dropna()\n",
    "df_network_final"
   ]
  },
  {
   "cell_type": "code",
   "execution_count": 314,
   "id": "cf61ed90",
   "metadata": {},
   "outputs": [
    {
     "data": {
      "text/html": [
       "<div>\n",
       "<style scoped>\n",
       "    .dataframe tbody tr th:only-of-type {\n",
       "        vertical-align: middle;\n",
       "    }\n",
       "\n",
       "    .dataframe tbody tr th {\n",
       "        vertical-align: top;\n",
       "    }\n",
       "\n",
       "    .dataframe thead th {\n",
       "        text-align: right;\n",
       "    }\n",
       "</style>\n",
       "<table border=\"1\" class=\"dataframe\">\n",
       "  <thead>\n",
       "    <tr style=\"text-align: right;\">\n",
       "      <th></th>\n",
       "      <th>control number</th>\n",
       "      <th>personal name</th>\n",
       "      <th>personal relationship</th>\n",
       "    </tr>\n",
       "  </thead>\n",
       "  <tbody>\n",
       "    <tr>\n",
       "      <th>0</th>\n",
       "      <td>9992132490501488</td>\n",
       "      <td>Rebuffi</td>\n",
       "      <td>aut</td>\n",
       "    </tr>\n",
       "    <tr>\n",
       "      <th>1</th>\n",
       "      <td>9992133457501488</td>\n",
       "      <td>Priscianus Caesariensis.</td>\n",
       "      <td>aut</td>\n",
       "    </tr>\n",
       "    <tr>\n",
       "      <th>2</th>\n",
       "      <td>9992133466501488</td>\n",
       "      <td>Le Roy</td>\n",
       "      <td>aut</td>\n",
       "    </tr>\n",
       "    <tr>\n",
       "      <th>3</th>\n",
       "      <td>9992133467601488</td>\n",
       "      <td>Delbène</td>\n",
       "      <td>aut</td>\n",
       "    </tr>\n",
       "    <tr>\n",
       "      <th>4</th>\n",
       "      <td>9992135299701488</td>\n",
       "      <td>Anselmus Cantuariensis</td>\n",
       "      <td>aut</td>\n",
       "    </tr>\n",
       "    <tr>\n",
       "      <th>...</th>\n",
       "      <td>...</td>\n",
       "      <td>...</td>\n",
       "      <td>...</td>\n",
       "    </tr>\n",
       "    <tr>\n",
       "      <th>2504</th>\n",
       "      <td>9932512660101488</td>\n",
       "      <td>Julius</td>\n",
       "      <td>aut</td>\n",
       "    </tr>\n",
       "    <tr>\n",
       "      <th>2510</th>\n",
       "      <td>9932512660101488</td>\n",
       "      <td>Publius</td>\n",
       "      <td>aut</td>\n",
       "    </tr>\n",
       "    <tr>\n",
       "      <th>2512</th>\n",
       "      <td>9932512660101488</td>\n",
       "      <td>Julius</td>\n",
       "      <td>aut</td>\n",
       "    </tr>\n",
       "    <tr>\n",
       "      <th>2514</th>\n",
       "      <td>9932512660101488</td>\n",
       "      <td>Sulpitius</td>\n",
       "      <td>aut</td>\n",
       "    </tr>\n",
       "    <tr>\n",
       "      <th>2519</th>\n",
       "      <td>9935346840101488</td>\n",
       "      <td>Joannes Walterius</td>\n",
       "      <td>aut</td>\n",
       "    </tr>\n",
       "  </tbody>\n",
       "</table>\n",
       "<p>2020 rows × 3 columns</p>\n",
       "</div>"
      ],
      "text/plain": [
       "        control number             personal name personal relationship\n",
       "0     9992132490501488                   Rebuffi                   aut\n",
       "1     9992133457501488  Priscianus Caesariensis.                   aut\n",
       "2     9992133466501488                    Le Roy                   aut\n",
       "3     9992133467601488                   Delbène                   aut\n",
       "4     9992135299701488    Anselmus Cantuariensis                   aut\n",
       "...                ...                       ...                   ...\n",
       "2504  9932512660101488                    Julius                   aut\n",
       "2510  9932512660101488                   Publius                   aut\n",
       "2512  9932512660101488                    Julius                   aut\n",
       "2514  9932512660101488                 Sulpitius                   aut\n",
       "2519  9935346840101488         Joannes Walterius                   aut\n",
       "\n",
       "[2020 rows x 3 columns]"
      ]
     },
     "execution_count": 314,
     "metadata": {},
     "output_type": "execute_result"
    }
   ],
   "source": [
    "df_network_final.loc[(df_network_final['personal relationship'] == 'aut')]"
   ]
  },
  {
   "cell_type": "code",
   "execution_count": null,
   "id": "ffaff952",
   "metadata": {},
   "outputs": [],
   "source": [
    "df_network_final['personal relationship'].unique()"
   ]
  },
  {
   "cell_type": "code",
   "execution_count": 312,
   "id": "5b4d7d6a",
   "metadata": {},
   "outputs": [],
   "source": [
    "df_network_final.to_csv('D:\\KU Leuven\\DH Introduction\\Assignment2\\social_network_data_ready_for_gephi.csv')"
   ]
  }
 ],
 "metadata": {
  "kernelspec": {
   "display_name": "Python 3 (ipykernel)",
   "language": "python",
   "name": "python3"
  },
  "language_info": {
   "codemirror_mode": {
    "name": "ipython",
    "version": 3
   },
   "file_extension": ".py",
   "mimetype": "text/x-python",
   "name": "python",
   "nbconvert_exporter": "python",
   "pygments_lexer": "ipython3",
   "version": "3.9.12"
  }
 },
 "nbformat": 4,
 "nbformat_minor": 5
}
